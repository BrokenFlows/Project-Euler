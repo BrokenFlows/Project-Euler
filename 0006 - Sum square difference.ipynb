{
 "cells": [
  {
   "cell_type": "markdown",
   "metadata": {},
   "source": [
    "# Sum square difference\n",
    "## Problem 6\n",
    "The sum of the squares of the first ten natural numbers is,\n",
    "\n",
    "1^2 + 2^2 + ... + 10^2 = 385\n",
    "\n",
    "The square of the sum of the first ten natural numbers is,\n",
    "\n",
    "(1+2+...+10)^2=55^2=3025\n",
    "\n",
    "Hence the difference between the sum of the squares of the first ten natural numbers and the square of the sum is 3025−385=2640\n",
    "\n",
    "Find the difference between the sum of the squares of the first one hundred natural numbers and the square of the sum.\n"
   ]
  },
  {
   "cell_type": "code",
   "execution_count": 1,
   "metadata": {},
   "outputs": [
    {
     "name": "stdout",
     "output_type": "stream",
     "text": [
      "25164150\n",
      "Wall time: 352 µs\n"
     ]
    }
   ],
   "source": [
    "%%time\n",
    "\n",
    "N = range(1, 101) # first 100 natural numbers\n",
    "\n",
    "# sum the squares of each of those natural numbers\n",
    "Nsum = 0 \n",
    "for itr in range(0, len(N)):\n",
    "    Nsum = Nsum + pow(N[itr], 2)\n",
    "\n",
    "# get the difference between the square of the sums and the sum of the squares\n",
    "diff = pow(sum(N), 2) - Nsum\n",
    "\n",
    "print(diff) # output result\n"
   ]
  }
 ],
 "metadata": {
  "kernelspec": {
   "display_name": "Python 2",
   "language": "python",
   "name": "python2"
  },
  "language_info": {
   "codemirror_mode": {
    "name": "ipython",
    "version": 2
   },
   "file_extension": ".py",
   "mimetype": "text/x-python",
   "name": "python",
   "nbconvert_exporter": "python",
   "pygments_lexer": "ipython2",
   "version": "2.7.15"
  }
 },
 "nbformat": 4,
 "nbformat_minor": 2
}
