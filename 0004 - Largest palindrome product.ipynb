{
 "cells": [
  {
   "cell_type": "markdown",
   "metadata": {},
   "source": [
    "# Largest palindrome product\n",
    "## Problem 4\n",
    "A palindromic number reads the same both ways. The largest palindrome made from the product of two 2-digit numbers is 9009 = 91 × 99.\n",
    "\n",
    "Find the largest palindrome made from the product of two 3-digit numbers."
   ]
  },
  {
   "cell_type": "code",
   "execution_count": 1,
   "metadata": {},
   "outputs": [
    {
     "name": "stdout",
     "output_type": "stream",
     "text": [
      "The largest palindrome is 906609. It is a product of 993 x 913.\n",
      "Wall time: 654 ms\n"
     ]
    }
   ],
   "source": [
    "%%time\n",
    "n_digits = 3 # length of the numbers that make the factors\n",
    "\n",
    "# define the limits of the three digit numbers\n",
    "top_of_range = 10**(n_digits) - 1\n",
    "bot_of_range = 10**(n_digits - 1) - 1\n",
    "\n",
    "largest_palindrome = [0,0,0] # list to hold the palindrome and its factors\n",
    "\n",
    "# define the range and make it a list for later optimisation\n",
    "allowable_numbers = list(range(top_of_range, bot_of_range, -1))\n",
    "\n",
    "for factor1 in allowable_numbers: # iterate the first factor\n",
    "    for factor2 in allowable_numbers: # iterate the second factor\n",
    "        \n",
    "        # set up variables for tests\n",
    "        rev_num = 0\n",
    "        test_num = factor1 * factor2\n",
    "        temp_num = test_num\n",
    "        \n",
    "        while (temp_num > 0): # build the number up in reverse\n",
    "            rev_num = (rev_num * 10) + (temp_num % 10) # add to the tail\n",
    "            temp_num = temp_num // 10 # prepare a new tail with divide and floor\n",
    "        \n",
    "        if (rev_num == test_num): # is this product a palindrome\n",
    "            if (rev_num > largest_palindrome[0]): # is it larger than the previous best\n",
    "                largest_palindrome = [rev_num, factor1, factor2] # if yes save all details for output later\n",
    "            break # only smaller numbers will be compared so break out\n",
    "    \n",
    "    allowable_numbers.remove(factor1) # this has been compared completely so it needn't be checked again\n",
    "\n",
    "print('The largest palindrome is {:d}. It is a product of {:d} x {:d}.'\n",
    "      .format(largest_palindrome[0],largest_palindrome[1],largest_palindrome[2]))\n"
   ]
  }
 ],
 "metadata": {
  "kernelspec": {
   "display_name": "Python 3",
   "language": "python",
   "name": "python3"
  },
  "language_info": {
   "codemirror_mode": {
    "name": "ipython",
    "version": 3
   },
   "file_extension": ".py",
   "mimetype": "text/x-python",
   "name": "python",
   "nbconvert_exporter": "python",
   "pygments_lexer": "ipython3",
   "version": "3.7.4"
  }
 },
 "nbformat": 4,
 "nbformat_minor": 2
}
