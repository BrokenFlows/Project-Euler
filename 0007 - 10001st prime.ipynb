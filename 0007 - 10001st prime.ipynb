{
 "cells": [
  {
   "cell_type": "markdown",
   "metadata": {},
   "source": [
    "# 10001st prime\n",
    "## Problem 7\n",
    "By listing the first six prime numbers: 2, 3, 5, 7, 11, and 13, we can see that the 6th prime is 13.\n",
    "\n",
    "\n",
    "What is the 10 001st prime number?"
   ]
  },
  {
   "cell_type": "code",
   "execution_count": 1,
   "metadata": {},
   "outputs": [
    {
     "name": "stdout",
     "output_type": "stream",
     "text": [
      "The 10,001st prime is 104743.\n",
      "Wall time: 700 ms\n"
     ]
    }
   ],
   "source": [
    "%%time\n",
    "\n",
    "import math # for sqrt and ceil\n",
    "\n",
    "primes = [2,3] # skip the first two\n",
    "potential_prime = 4 # since the first two are skipped, start at the next int\n",
    "\n",
    "while (len(primes) < 10001): # go until there are 10,001 primes\n",
    "    search_limit = int(math.ceil(math.sqrt(potential_prime))) # no need to search past sqrt\n",
    "    for prime_test in range(2, search_limit+1):\n",
    "        if ((potential_prime % prime_test) == 0): # still check against the potential prime\n",
    "            break\n",
    "        if (search_limit == prime_test): # if the limit was hit we have a prime\n",
    "            primes.extend([potential_prime])\n",
    "    potential_prime = potential_prime + 1 # increment the prime being checked\n",
    "\n",
    "# print the last, 10,001st, prime added to the list\n",
    "print(\"The 10,001st prime is {0}.\".format(primes[-1]))\n"
   ]
  }
 ],
 "metadata": {
  "kernelspec": {
   "display_name": "Python 2",
   "language": "python",
   "name": "python2"
  },
  "language_info": {
   "codemirror_mode": {
    "name": "ipython",
    "version": 2
   },
   "file_extension": ".py",
   "mimetype": "text/x-python",
   "name": "python",
   "nbconvert_exporter": "python",
   "pygments_lexer": "ipython2",
   "version": "2.7.15"
  }
 },
 "nbformat": 4,
 "nbformat_minor": 2
}
