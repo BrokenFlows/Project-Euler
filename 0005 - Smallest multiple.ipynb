{
 "cells": [
  {
   "cell_type": "markdown",
   "metadata": {},
   "source": [
    "# Smallest multiple\n",
    "## Problem 5\n",
    "2520 is the smallest number that can be divided by each of the numbers from 1 to 10 without any remainder.\n",
    "\n",
    "What is the smallest positive number that is *evenly divisible* by all of the numbers from 1 to 20?"
   ]
  },
  {
   "cell_type": "code",
   "execution_count": 32,
   "metadata": {},
   "outputs": [
    {
     "name": "stdout",
     "output_type": "stream",
     "text": [
      "[1, 2, 3, 5, 7]\n",
      "Wall time: 0 ns\n"
     ]
    }
   ],
   "source": [
    "%%time\n",
    "\n",
    "to_x = 10 # 20 # \n",
    "primes = [1]\n",
    "\n",
    "# get all primes in list 1--20\n",
    "\n",
    "for potential_prime in range(2, to_x+1):\n",
    "    for prime_test in range(2, potential_prime+1):\n",
    "        if (potential_prime % prime_test == 0):\n",
    "            break\n",
    "    if (prime_test == potential_prime):\n",
    "        primes.extend([potential_prime])\n",
    "print(primes)\n",
    "\n",
    "# go through numbers and divide by all primes\n",
    "\n",
    "multiple =\n",
    "\n",
    "\n",
    "# finish when all primes can divide with no modulus\n",
    "\n",
    "\n"
   ]
  }
 ],
 "metadata": {
  "kernelspec": {
   "display_name": "Python 3",
   "language": "python",
   "name": "python3"
  },
  "language_info": {
   "codemirror_mode": {
    "name": "ipython",
    "version": 3
   },
   "file_extension": ".py",
   "mimetype": "text/x-python",
   "name": "python",
   "nbconvert_exporter": "python",
   "pygments_lexer": "ipython3",
   "version": "3.7.4"
  }
 },
 "nbformat": 4,
 "nbformat_minor": 2
}
