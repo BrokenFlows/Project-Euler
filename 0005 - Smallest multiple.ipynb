{
 "cells": [
  {
   "cell_type": "markdown",
   "metadata": {},
   "source": [
    "# Smallest multiple\n",
    "## Problem 5\n",
    "2520 is the smallest number that can be divided by each of the numbers from 1 to 10 without any remainder.\n",
    "\n",
    "What is the smallest positive number that is *evenly divisible* by all of the numbers from 1 to 20?"
   ]
  },
  {
   "cell_type": "code",
   "execution_count": 1,
   "metadata": {},
   "outputs": [
    {
     "name": "stdout",
     "output_type": "stream",
     "text": [
      "[19, 17, 13, 11, 9, 7, 5, 3, 2]\n",
      "232792560\n",
      "Wall time: 10.9 s\n"
     ]
    }
   ],
   "source": [
    "%%time\n",
    "\n",
    "to_x = 20\n",
    "primes = []\n",
    "\n",
    "# get all primes in list 1--to_x\n",
    "for potential_prime in range(2, to_x+1):\n",
    "    for prime_test in range(2, potential_prime+1):\n",
    "        if not (potential_prime % prime_test):\n",
    "            break\n",
    "    if (prime_test == potential_prime):\n",
    "        primes.extend([potential_prime])\n",
    "\n",
    "# find the largest square of a prime\n",
    "for prime in reversed(primes):\n",
    "    if (pow(prime, 2) <= to_x):\n",
    "        primes.extend([pow(prime, 2)])\n",
    "        break\n",
    "\n",
    "# find the largest power of 2\n",
    "power = 0 # start as 2^0\n",
    "while (pow(2, power+1) <= to_x): # greatest 2^x saves '2' without fractional results\n",
    "    power = power + 1\n",
    "    \n",
    "power2 = pow(2, power)\n",
    "ratio2 = power2/2 # ratio of the greatest fitting 2^x:2\n",
    "\n",
    "primes.sort(reverse=True)\n",
    "\n",
    "print(primes) # display for checking purposes\n",
    "\n",
    "# go through numbers and divide by all primes\n",
    "multiple = to_x + 1\n",
    "\n",
    "while True:\n",
    "    for prime in primes:\n",
    "        # if a prime doesn't divide evenly quit\n",
    "        if (multiple % prime):\n",
    "            break\n",
    "    if not (multiple % prime): # if the last prime checked fits, we're done\n",
    "        break\n",
    "    else: # otherwise itterate the next number to check as multiples\n",
    "        multiple = multiple + 1\n",
    "\n",
    "print(multiple*ratio2) # times the ratio to fit the greatest 2^x\n"
   ]
  }
 ],
 "metadata": {
  "kernelspec": {
   "display_name": "Python 2",
   "language": "python",
   "name": "python2"
  },
  "language_info": {
   "codemirror_mode": {
    "name": "ipython",
    "version": 2
   },
   "file_extension": ".py",
   "mimetype": "text/x-python",
   "name": "python",
   "nbconvert_exporter": "python",
   "pygments_lexer": "ipython2",
   "version": "2.7.15"
  }
 },
 "nbformat": 4,
 "nbformat_minor": 2
}
