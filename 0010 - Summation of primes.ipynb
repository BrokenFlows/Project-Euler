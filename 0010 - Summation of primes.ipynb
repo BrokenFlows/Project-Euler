{
 "cells": [
  {
   "cell_type": "markdown",
   "metadata": {},
   "source": [
    "# Summation of primes\n",
    "## Problem 10\n",
    "The sum of the primes below 10 is 2 + 3 + 5 + 7 = 17.\n",
    "\n",
    "Find the sum of all the primes below two million."
   ]
  },
  {
   "cell_type": "code",
   "execution_count": 1,
   "metadata": {},
   "outputs": [
    {
     "name": "stdout",
     "output_type": "stream",
     "text": [
      "The sum of all primes under two million is 142913828922\n",
      "Wall time: 38.7 s\n"
     ]
    }
   ],
   "source": [
    "%%time\n",
    "\n",
    "import math\n",
    "\n",
    "def find_prime(primes, potential_prime):\n",
    "    search_limit = int(math.ceil(math.sqrt(potential_prime))) # no need to search past sqrt\n",
    "    for prime_test in range(2, search_limit+1):\n",
    "        if ((potential_prime % prime_test) == 0): # still check against the potential prime\n",
    "            break\n",
    "        if (search_limit == prime_test): # if the limit was hit we have a prime\n",
    "            primes.extend([potential_prime])\n",
    "    return primes\n",
    "\n",
    "two_M = 2000000\n",
    "primes = [2]\n",
    "\n",
    "for potential_prime in range(1,two_M+1):\n",
    "    find_prime(primes, potential_prime)\n",
    "\n",
    "print(\"The sum of all primes under two million is {0}\".format(sum(primes)))\n"
   ]
  }
 ],
 "metadata": {
  "kernelspec": {
   "display_name": "Python 2",
   "language": "python",
   "name": "python2"
  },
  "language_info": {
   "codemirror_mode": {
    "name": "ipython",
    "version": 2
   },
   "file_extension": ".py",
   "mimetype": "text/x-python",
   "name": "python",
   "nbconvert_exporter": "python",
   "pygments_lexer": "ipython2",
   "version": "2.7.15"
  }
 },
 "nbformat": 4,
 "nbformat_minor": 2
}
