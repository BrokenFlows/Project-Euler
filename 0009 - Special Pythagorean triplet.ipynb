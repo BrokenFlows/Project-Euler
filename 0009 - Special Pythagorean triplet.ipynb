{
 "cells": [
  {
   "cell_type": "markdown",
   "metadata": {},
   "source": [
    "# Special Pythagorean triplet\n",
    "## Problem 9\n",
    "A Pythagorean triplet is a set of three natural numbers, a < b < c, for which,\n",
    "\n",
    "a^2 + b^2 = c^2\n",
    "\n",
    "For example, 3^2 + 4^2 = 9 + 16 = 25 = 5^2.\n",
    "\n",
    "There exists exactly one Pythagorean triplet for which a + b + c = 1000.\n",
    "Find the product abc."
   ]
  },
  {
   "cell_type": "code",
   "execution_count": 14,
   "metadata": {},
   "outputs": [
    {
     "name": "stdout",
     "output_type": "stream",
     "text": [
      "a = 200, b = 375, c = 425. abc = 31875000\n",
      "CPU times: user 450 ms, sys: 1.69 ms, total: 452 ms\n",
      "Wall time: 455 ms\n"
     ]
    }
   ],
   "source": [
    "%%time\n",
    "\n",
    "import random\n",
    "\n",
    "def rand_triplet(upper_limit):\n",
    "    # find a random triplet that sums to upper_limit\n",
    "    triplet = [] # make a list to store values\n",
    "    \n",
    "    triplet.extend([random.randint(1,upper_limit-1)]) # get a random number in 1 to limit\n",
    "    triplet.extend([random.randint(1,(upper_limit-triplet[0]))]) # rand in the remainder\n",
    "    triplet.extend([upper_limit - (triplet[0] + triplet[1])]) # third value to pad the triplet\n",
    "\n",
    "    triplet.sort(reverse=False) # sort such that a < b < c\n",
    "\n",
    "    return (triplet)\n",
    "\n",
    "upper_limit = 1000 # the value a, b, and c sum to\n",
    "\n",
    "# find an initial random triplet\n",
    "triplet = rand_triplet(upper_limit)\n",
    "\n",
    "# search until pythaorean condition met\n",
    "while ((pow(triplet[0],2) + pow(triplet[1],2)) != (pow(triplet[2],2))):\n",
    "    triplet = rand_triplet(upper_limit)\n",
    "\n",
    "product = triplet[0] # reset the product with the first digit in the triplet\n",
    "for elem in range(1,len(triplet)):\n",
    "    product = product * triplet[elem] # calculate the product of elements in the triplet\n",
    "\n",
    "print(\"a = {0}, b = {1}, c = {2}. abc = {3}\".format(triplet[0],\n",
    "                                                    triplet[1],\n",
    "                                                    triplet[2],\n",
    "                                                    product))\n"
   ]
  }
 ],
 "metadata": {
  "kernelspec": {
   "display_name": "Python 2",
   "language": "python",
   "name": "python2"
  },
  "language_info": {
   "codemirror_mode": {
    "name": "ipython",
    "version": 2
   },
   "file_extension": ".py",
   "mimetype": "text/x-python",
   "name": "python",
   "nbconvert_exporter": "python",
   "pygments_lexer": "ipython2",
   "version": "2.7.15"
  }
 },
 "nbformat": 4,
 "nbformat_minor": 2
}
