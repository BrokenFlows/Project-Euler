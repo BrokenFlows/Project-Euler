{
 "cells": [
  {
   "cell_type": "markdown",
   "metadata": {},
   "source": [
    "# Largest prime factor\n",
    "## Problem 3\n",
    "The prime factors of 13195 are 5, 7, 13 and 29.\n",
    "\n",
    "What is the largest prime factor of the number 600851475143 ?"
   ]
  },
  {
   "cell_type": "code",
   "execution_count": 1,
   "metadata": {},
   "outputs": [
    {
     "name": "stdout",
     "output_type": "stream",
     "text": [
      "The largest prime factor is 6857\n",
      "Wall time: 329 ms\n"
     ]
    }
   ],
   "source": [
    "%%time\n",
    "import math\n",
    "\n",
    "start = 600851475143 # 13195 # \n",
    "\n",
    "# looking for largest so start at the top\n",
    "upper_limit = math.ceil(math.sqrt(start)) # prime factor must be below this\n",
    "lower_limit = 2 # smallest prime\n",
    "\n",
    "for big_test in range(upper_limit, lower_limit, -1):\n",
    "    if (start % big_test == 0): # does it even divide evenly into the start number?\n",
    "        for prime_test in range(lower_limit, (big_test+1), +1): # what are its factors?\n",
    "            if (big_test % prime_test == 0): # is it non-prime?\n",
    "                break\n",
    "        if (prime_test == big_test): # if it cycled all the way it is prime\n",
    "            biggest_prime = prime_test\n",
    "            break\n",
    "\n",
    "# share result\n",
    "print('The largest prime factor is', biggest_prime)\n"
   ]
  }
 ],
 "metadata": {
  "kernelspec": {
   "display_name": "Python 3",
   "language": "python",
   "name": "python3"
  },
  "language_info": {
   "codemirror_mode": {
    "name": "ipython",
    "version": 3
   },
   "file_extension": ".py",
   "mimetype": "text/x-python",
   "name": "python",
   "nbconvert_exporter": "python",
   "pygments_lexer": "ipython3",
   "version": "3.7.4"
  }
 },
 "nbformat": 4,
 "nbformat_minor": 2
}
